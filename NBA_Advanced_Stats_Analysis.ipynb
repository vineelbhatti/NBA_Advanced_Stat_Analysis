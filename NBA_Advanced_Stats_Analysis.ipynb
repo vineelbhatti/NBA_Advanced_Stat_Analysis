{
  "nbformat": 4,
  "nbformat_minor": 0,
  "metadata": {
    "colab": {
      "provenance": [],
      "authorship_tag": "ABX9TyPHKsoXMivhaaaj70RCsYcP",
      "include_colab_link": true
    },
    "kernelspec": {
      "name": "python3",
      "display_name": "Python 3"
    },
    "language_info": {
      "name": "python"
    }
  },
  "cells": [
    {
      "cell_type": "markdown",
      "metadata": {
        "id": "view-in-github",
        "colab_type": "text"
      },
      "source": [
        "<a href=\"https://colab.research.google.com/github/vineelbhatti/NBA_Advanced_Stat_Analysis/blob/main/NBA_Advanced_Stats_Analysis.ipynb\" target=\"_parent\"><img src=\"https://colab.research.google.com/assets/colab-badge.svg\" alt=\"Open In Colab\"/></a>"
      ]
    },
    {
      "cell_type": "code",
      "execution_count": null,
      "metadata": {
        "id": "VX8j4u8RrFVk"
      },
      "outputs": [],
      "source": [
        "#Import necessary modules\n",
        "from urllib.request import urlopen\n",
        "from bs4 import BeautifulSoup\n",
        "import pandas as pd\n",
        "import matplotlib.pyplot as plt\n",
        "import plotly.graph_objs as go"
      ]
    },
    {
      "cell_type": "code",
      "source": [
        "#Open datasets\n",
        "year = 2023\n",
        "#Open url\n",
        "url = \"https://www.basketball-reference.com/leagues/NBA_2023_totals.html\".format(year)\n",
        "#Open url with per game stats\n",
        "url_per_game = \"https://www.basketball-reference.com/leagues/NBA_2023_per_game.html\".format(year)\n",
        "#Open url with advanced stats\n",
        "url_advanced = \"https://www.basketball-reference.com/leagues/NBA_2023_advanced.html\".format(year)\n",
        "html = urlopen(url_advanced)\n",
        "soup = BeautifulSoup(html)"
      ],
      "metadata": {
        "id": "isAI-ukdrKkO"
      },
      "execution_count": null,
      "outputs": []
    },
    {
      "cell_type": "code",
      "source": [
        "#Find all column headers\n",
        "soup.findAll('tr', limit=2)\n",
        "\n",
        "#Find all headers in dataset\n",
        "headers = [th.getText() for th in soup.findAll('tr', limit=2)[0].findAll('th')]\n",
        "\n",
        "#Use all headers as columns\n",
        "headers = headers[1:]"
      ],
      "metadata": {
        "id": "jo3YeTU5rmo0"
      },
      "execution_count": null,
      "outputs": []
    },
    {
      "cell_type": "code",
      "source": [
        "#Converting url to dataframe\n",
        "rows = soup.findAll('tr')[1:]\n",
        "player_stats = [[td.getText() for td in rows[i].findAll('td')] for i in range(len(rows))]"
      ],
      "metadata": {
        "id": "BqmfLQvGsD4D"
      },
      "execution_count": null,
      "outputs": []
    },
    {
      "cell_type": "code",
      "source": [
        "#Create dataframe\n",
        "stats = pd.DataFrame(player_stats, columns=headers)\n",
        "stats = stats[stats['Player'].notna()]"
      ],
      "metadata": {
        "id": "a5mCWBTSsVoO"
      },
      "execution_count": null,
      "outputs": []
    },
    {
      "cell_type": "code",
      "source": [
        "### Use this url to understand above code: https://medium.com/@osanchez2323/web-scraping-nba-stats-4b4f8c525994 ###"
      ],
      "metadata": {
        "id": "wfPumdDvsmCT"
      },
      "execution_count": null,
      "outputs": []
    },
    {
      "cell_type": "code",
      "source": [
        "#Convert stats to number formats\n",
        "stats['MP'] = stats['MP'].astype(int)\n",
        "#Remving all players with less than 200 minutes played\n",
        "stats = stats[stats['MP'] >= 200]\n",
        "#Converting Win Share stat to float data type\n",
        "stats['WS'] = stats['WS'].astype(float)\n",
        "#Converting VORP stat to float data type\n",
        "stats['VORP'] = stats['VORP'].astype(float)\n",
        "#Converting BPM stat to float data type\n",
        "stats['BPM'] = stats['BPM'].astype(float)\n",
        "#Converting Usage Percentage stat to float data type\n",
        "stats['USG%'] = stats['USG%'].astype(float)\n",
        "#Conerting Assist Percentage stat to float data type\n",
        "stats['AST%'] = stats['AST%'].astype(float)\n",
        "#Converting PER stat to float data type\n",
        "stats['PER'] = stats['PER'].astype(float)\n",
        "#Converting True Shooting Percentage stat to float data type\n",
        "stats['TS%'] = stats['TS%'].astype(float)"
      ],
      "metadata": {
        "id": "fqzycP75wHk4"
      },
      "execution_count": null,
      "outputs": []
    },
    {
      "cell_type": "code",
      "source": [
        "#Create a dataset with just player names\n",
        "labels = filtered_stats['Player']"
      ],
      "metadata": {
        "id": "f4ssKmwI0G-D"
      },
      "execution_count": null,
      "outputs": []
    },
    {
      "cell_type": "code",
      "source": [
        "#Remove unwanted entries\n",
        "filtered_stats = filtered_stats[filtered_stats['Pos'] != 'PF-SF']\n",
        "filtered_stats = filtered_stats[filtered_stats['Pos'] != 'SF-SG']\n",
        "filtered_stats = filtered_stats[filtered_stats['Tm'] != 'TOT']"
      ],
      "metadata": {
        "id": "g9Xb0rEd2tZW"
      },
      "execution_count": null,
      "outputs": []
    },
    {
      "cell_type": "code",
      "source": [
        "#Create dictionaries associating each position and team with a color\n",
        "position_colors = {'PG': 'red', 'SG': 'green', 'SF': 'blue', 'PF': 'orange', 'C': 'purple'}\n",
        "nba_team_colors = {'ATL':'#E03A3E','BOS':'#007A33','BRK':'#000000','CHO':'#1D1160','CHI':'#CE1141','CLE':'#6F263D','DAL':'#00538C','DEN':'#0E2240','DET':'#C8102E','GSW':'#1D428A','HOU':'#CE1141','IND':'#002D62','LAC':'#C8102E','LAL':'#552583','MEM':'#5D76A9','MIA':'#98002E','MIL':'#00471B','MIN':'#0C2340','NOP':'#0C2340','NYK':'#F58426','OKC':'#007AC1','ORL':'#0077C0','PHI':'#ED174C','PHO':'#1D1160','POR':'#E03A3E','SAC':'#5A2D81','SAS':'#C4CED4','TOR':'#CE1141','UTA':'#002B5C','WAS':'#E31837'}\n",
        "\n",
        "trace = go.Scatter(\n",
        "    x=filtered_stats['WS'],\n",
        "    y=filtered_stats['VORP'],\n",
        "    mode='markers',\n",
        "    text=labels,  # set the labels to show on hover\n",
        "    hovertemplate='Point %{text}: (%{x:.2f}, %{y:.2f})<extra></extra>',  # customize the hover text\n",
        "    marker=dict(\n",
        "        color=[nba_team_colors[p] for p in filtered_stats['Tm']],\n",
        "        size=10,\n",
        "        opacity=0.7,\n",
        "        symbol='circle')\n",
        ")"
      ],
      "metadata": {
        "id": "7riEa5_G0Efw"
      },
      "execution_count": null,
      "outputs": []
    },
    {
      "cell_type": "code",
      "source": [
        "# Create the layout for the plot\n",
        "layout = go.Layout(\n",
        "    title='VORP vs Win Shares',\n",
        "    xaxis=dict(title='Win Shares'),\n",
        "    yaxis=dict(title='VORP'),\n",
        ")\n",
        "\n",
        "# Combine the trace and layout into a figure\n",
        "fig = go.Figure(data=[trace], layout=layout)\n",
        "\n",
        "# Show the plot\n",
        "fig.show()"
      ],
      "metadata": {
        "colab": {
          "base_uri": "https://localhost:8080/",
          "height": 542
        },
        "id": "a8MwZgq00ipL",
        "outputId": "0a614885-d905-4d88-a1c8-20c7dbc6a709"
      },
      "execution_count": null,
      "outputs": [
        {
          "output_type": "display_data",
          "data": {
            "text/html": [
              "<html>\n",
              "<head><meta charset=\"utf-8\" /></head>\n",
              "<body>\n",
              "    <div>            <script src=\"https://cdnjs.cloudflare.com/ajax/libs/mathjax/2.7.5/MathJax.js?config=TeX-AMS-MML_SVG\"></script><script type=\"text/javascript\">if (window.MathJax && window.MathJax.Hub && window.MathJax.Hub.Config) {window.MathJax.Hub.Config({SVG: {font: \"STIX-Web\"}});}</script>                <script type=\"text/javascript\">window.PlotlyConfig = {MathJaxConfig: 'local'};</script>\n",
              "        <script src=\"https://cdn.plot.ly/plotly-2.18.2.min.js\"></script>                <div id=\"90e9e869-788d-46fc-a3aa-f4d34d68b9bb\" class=\"plotly-graph-div\" style=\"height:525px; width:100%;\"></div>            <script type=\"text/javascript\">                                    window.PLOTLYENV=window.PLOTLYENV || {};                                    if (document.getElementById(\"90e9e869-788d-46fc-a3aa-f4d34d68b9bb\")) {                    Plotly.newPlot(                        \"90e9e869-788d-46fc-a3aa-f4d34d68b9bb\",                        [{\"hovertemplate\":\"Point %{text}: (%{x:.2f}, %{y:.2f})<extra></extra>\",\"marker\":{\"color\":[\"#98002E\",\"#5D76A9\",\"#00471B\",\"#6F263D\",\"#0C2340\",\"#00471B\",\"#0077C0\",\"#CE1141\",\"#E31837\",\"#1D1160\",\"#0077C0\",\"#5D76A9\",\"#5A2D81\",\"#CE1141\",\"#F58426\",\"#C8102E\",\"#E31837\",\"#C8102E\",\"#E03A3E\",\"#C8102E\",\"#0077C0\",\"#1D1160\",\"#CE1141\",\"#C4CED4\",\"#1D1160\",\"#007A33\",\"#5D76A9\",\"#0E2240\",\"#007A33\",\"#552583\",\"#F58426\",\"#00538C\",\"#98002E\",\"#0E2240\",\"#E03A3E\",\"#00471B\",\"#0077C0\",\"#CE1141\",\"#002B5C\",\"#000000\",\"#E03A3E\",\"#1D1160\",\"#1D428A\",\"#552583\",\"#CE1141\",\"#00538C\",\"#1D428A\",\"#00538C\",\"#007AC1\",\"#CE1141\",\"#C8102E\",\"#CE1141\",\"#0C2340\",\"#ED174C\",\"#E03A3E\",\"#5A2D81\",\"#0077C0\",\"#E31837\",\"#6F263D\",\"#C8102E\",\"#007AC1\",\"#007AC1\",\"#0C2340\",\"#0E2240\",\"#E03A3E\",\"#1D428A\",\"#CE1141\",\"#00538C\",\"#F58426\",\"#002D62\",\"#00538C\",\"#ED174C\",\"#000000\",\"#ED174C\",\"#E03A3E\",\"#F58426\",\"#C8102E\",\"#1D1160\",\"#98002E\",\"#002D62\",\"#00471B\",\"#007A33\",\"#5A2D81\",\"#E03A3E\",\"#0C2340\",\"#C8102E\",\"#5D76A9\",\"#552583\",\"#C4CED4\",\"#0E2240\",\"#0C2340\",\"#C4CED4\",\"#5D76A9\",\"#002B5C\",\"#E31837\",\"#E31837\",\"#CE1141\",\"#1D1160\",\"#C8102E\",\"#6F263D\",\"#E03A3E\",\"#1D428A\",\"#00471B\",\"#98002E\",\"#C8102E\",\"#002B5C\",\"#0C2340\",\"#98002E\",\"#CE1141\",\"#002D62\",\"#ED174C\",\"#0C2340\",\"#002D62\",\"#0C2340\",\"#ED174C\",\"#ED174C\",\"#6F263D\",\"#6F263D\",\"#5A2D81\",\"#5D76A9\",\"#C8102E\",\"#E31837\",\"#0C2340\",\"#E03A3E\",\"#0E2240\",\"#5A2D81\",\"#002D62\",\"#002D62\",\"#ED174C\",\"#000000\",\"#E03A3E\",\"#6F263D\",\"#002B5C\",\"#6F263D\",\"#1D1160\",\"#1D1160\",\"#1D1160\",\"#1D428A\",\"#CE1141\",\"#0E2240\",\"#00471B\",\"#E31837\",\"#C8102E\",\"#F58426\",\"#F58426\",\"#552583\",\"#F58426\",\"#1D1160\",\"#0C2340\",\"#5A2D81\",\"#552583\",\"#CE1141\",\"#E03A3E\",\"#CE1141\",\"#E03A3E\",\"#007A33\",\"#CE1141\",\"#98002E\",\"#007A33\",\"#1D428A\",\"#CE1141\",\"#ED174C\",\"#002D62\",\"#0C2340\",\"#CE1141\",\"#98002E\",\"#CE1141\",\"#0077C0\",\"#1D1160\",\"#CE1141\",\"#007A33\",\"#007A33\",\"#007AC1\",\"#CE1141\",\"#00538C\",\"#E03A3E\",\"#C8102E\"],\"opacity\":0.7,\"size\":10,\"symbol\":\"circle\"},\"mode\":\"markers\",\"text\":[\"Bam Adebayo\",\"Santi Aldama\",\"Grayson Allen\",\"Jarrett Allen\",\"Kyle Anderson\",\"Giannis Antetokounmpo\",\"Cole Anthony\",\"OG Anunoby\",\"Deni Avdija\",\"Deandre Ayton\",\"Paolo Banchero\",\"Desmond Bane\",\"Harrison Barnes\",\"Scottie Barnes\",\"RJ Barrett\",\"Nicolas Batum\",\"Bradley Beal\",\"Saddiq Bey\",\"Bogdan Bogdanovi\\u0107\",\"Bojan Bogdanovi\\u0107\",\"Bol Bol\",\"Devin Booker\",\"Chris Boucher\",\"Malaki Branham\",\"Mikal Bridges\",\"Malcolm Brogdon\",\"Dillon Brooks\",\"Bruce Brown\",\"Jaylen Brown\",\"Troy Brown Jr.\",\"Jalen Brunson\",\"Reggie Bullock\",\"Jimmy Butler\",\"Kentavious Caldwell-Pope\",\"Clint Capela\",\"Jevon Carter\",\"Wendell Carter Jr.\",\"Alex Caruso\",\"Jordan Clarkson\",\"Nic Claxton\",\"John Collins\",\"Torrey Craig\",\"Stephen Curry\",\"Anthony Davis\",\"DeMar DeRozan\",\"Spencer Dinwiddie\",\"Donte DiVincenzo\",\"Luka Don\\u010di\\u0107\",\"Luguentz Dort\",\"Ayo Dosunmu\",\"Jalen Duren\",\"Tari Eason\",\"Anthony Edwards\",\"Joel Embiid\",\"Drew Eubanks\",\"De'Aaron Fox\",\"Markelle Fultz\",\"Daniel Gafford\",\"Darius Garland\",\"Paul George\",\"Josh Giddey\",\"Shai Gilgeous-Alexander\",\"Rudy Gobert\",\"Aaron Gordon\",\"Jerami Grant\",\"Draymond Green\",\"Jalen Green\",\"Josh Green\",\"Quentin Grimes\",\"Tyrese Haliburton\",\"Tim Hardaway Jr.\",\"James Harden\",\"Joe Harris\",\"Tobias Harris\",\"Josh Hart\",\"Isaiah Hartenstein\",\"Killian Hayes\",\"Gordon Hayward\",\"Tyler Herro\",\"Buddy Hield\",\"Jrue Holiday\",\"Al Horford\",\"Kevin Huerter\",\"De'Andre Hunter\",\"Brandon Ingram\",\"Jaden Ivey\",\"Jaren Jackson Jr.\",\"LeBron James\",\"Keldon Johnson\",\"Nikola Joki\\u0107\",\"Herbert Jones\",\"Tre Jones\",\"Tyus Jones\",\"Walker Kessler\",\"Corey Kispert\",\"Kyle Kuzma\",\"Zach LaVine\",\"Damion Lee\",\"Kawhi Leonard\",\"Caris LeVert\",\"Damian Lillard\",\"Kevon Looney\",\"Brook Lopez\",\"Kyle Lowry\",\"Terance Mann\",\"Lauri Markkanen\",\"Naji Marshall\",\"Caleb Martin\",\"Kenyon Martin Jr.\",\"Bennedict Mathurin\",\"Tyrese Maxey\",\"CJ McCollum\",\"T.J. McConnell\",\"Jaden McDaniels\",\"De'Anthony Melton\",\"Shake Milton\",\"Donovan Mitchell\",\"Evan Mobley\",\"Malik Monk\",\"Ja Morant\",\"Marcus Morris\",\"Monte Morris\",\"Trey Murphy III\",\"Dejounte Murray\",\"Jamal Murray\",\"Keegan Murray\",\"Andrew Nembhard\",\"Aaron Nesmith\",\"Georges Niang\",\"Royce O'Neale\",\"Onyeka Okongwu\",\"Isaac Okoro\",\"Kelly Olynyk\",\"Cedi Osman\",\"Kelly Oubre Jr.\",\"Chris Paul\",\"Mason Plumlee\",\"Jordan Poole\",\"Kevin Porter Jr.\",\"Michael Porter Jr.\",\"Bobby Portis\",\"Kristaps Porzi\\u0146\\u0123is\",\"Norman Powell\",\"Immanuel Quickley\",\"Julius Randle\",\"Austin Reaves\",\"Mitchell Robinson\",\"Terry Rozier\",\"D'Angelo Russell\",\"Domantas Sabonis\",\"Dennis Schr\\u00f6der\",\"Alperen \\u015eeng\\u00fcn\",\"Shaedon Sharpe\",\"Pascal Siakam\",\"Anfernee Simons\",\"Marcus Smart\",\"Jabari Smith Jr.\",\"Max Strus\",\"Jayson Tatum\",\"Klay Thompson\",\"Gary Trent Jr.\",\"P.J. Tucker\",\"Myles Turner\",\"Jonas Valan\\u010di\\u016bnas\",\"Fred VanVleet\",\"Gabe Vincent\",\"Nikola Vu\\u010devi\\u0107\",\"Franz Wagner\",\"P.J. Washington\",\"Coby White\",\"Derrick White\",\"Grant Williams\",\"Jalen Williams\",\"Patrick Williams\",\"Christian Wood\",\"Trae Young\",\"Ivica Zubac\"],\"x\":[7.4,4.6,5.1,9.5,5.1,8.6,3.7,4.7,2.3,6.2,2.4,5.8,6.5,5.0,2.2,3.6,3.4,2.3,2.8,3.5,2.3,6.0,5.0,-0.1,4.9,5.8,1.6,4.3,5.0,2.9,8.7,2.8,12.3,4.5,7.2,3.5,4.6,3.6,1.7,9.2,4.2,4.0,7.8,9.0,8.5,4.3,4.2,10.2,2.9,2.9,4.5,2.6,3.8,12.3,4.4,7.4,3.7,6.1,7.6,4.6,4.0,11.4,7.8,6.8,4.1,4.7,1.8,2.6,4.8,7.6,2.3,8.4,2.6,5.9,3.2,4.6,-0.5,2.0,3.5,4.4,6.7,6.3,4.9,2.5,3.5,0.0,6.6,5.6,1.3,14.9,4.2,3.4,5.7,7.1,3.8,0.9,7.1,2.6,7.1,4.4,9.0,8.7,8.0,3.4,4.3,8.2,2.5,3.7,4.9,1.8,5.4,4.3,3.1,4.4,4.2,2.9,8.9,8.5,3.2,6.0,2.0,4.2,7.6,4.7,5.1,4.3,1.2,2.0,2.5,2.9,7.1,4.2,4.3,3.3,1.7,6.2,6.1,3.2,2.9,4.3,5.3,7.7,3.5,6.7,8.1,5.4,6.5,1.7,3.8,12.6,2.8,5.2,1.2,7.8,2.5,3.7,1.9,3.4,10.5,3.1,4.5,2.5,5.4,5.8,6.5,1.4,8.3,5.4,2.6,3.1,7.4,4.4,5.6,3.5,4.8,6.7,6.7],\"y\":[2.3,1.1,1.0,2.4,2.2,5.4,1.3,1.5,-0.1,1.5,0.3,2.5,0.7,1.6,-0.7,1.0,1.6,0.5,0.9,1.4,0.4,2.9,0.7,-1.2,1.6,2.1,-1.1,0.8,2.0,0.5,3.5,-0.4,5.8,0.6,1.8,0.6,1.3,1.2,0.3,2.9,0.4,0.7,4.7,4.0,2.6,1.3,1.3,6.6,-0.6,-0.2,0.5,0.1,2.1,6.4,0.8,2.7,1.2,1.2,2.7,2.3,1.9,5.6,1.4,2.1,1.0,1.6,0.0,-0.2,1.0,4.4,0.1,4.0,0.3,1.7,0.8,0.7,-1.0,0.2,1.6,2.4,2.8,2.5,1.7,-0.7,1.5,-0.7,2.2,4.0,0.1,8.8,0.8,0.5,1.7,2.1,0.3,0.2,2.7,0.1,3.5,1.0,4.9,2.0,2.5,0.9,0.8,3.3,0.1,0.4,0.7,-1.0,1.3,1.9,1.0,0.5,1.6,0.0,5.0,2.5,1.0,3.8,0.0,1.1,2.3,2.1,1.8,0.8,-0.6,-0.4,0.2,0.5,1.3,0.7,1.2,0.5,0.3,2.5,1.8,0.1,1.3,1.0,1.2,3.4,0.9,2.1,3.9,1.2,1.7,0.8,1.4,5.4,-0.4,1.9,-0.6,3.5,0.5,0.5,-1.1,0.2,5.1,1.0,1.1,-0.5,1.9,0.8,2.9,-0.6,3.2,1.3,0.4,0.5,2.6,0.5,1.3,0.4,1.6,3.4,0.6],\"type\":\"scatter\"}],                        {\"title\":{\"text\":\"VORP vs Win Shares\"},\"xaxis\":{\"title\":{\"text\":\"Win Shares\"}},\"yaxis\":{\"title\":{\"text\":\"VORP\"}},\"template\":{\"data\":{\"histogram2dcontour\":[{\"type\":\"histogram2dcontour\",\"colorbar\":{\"outlinewidth\":0,\"ticks\":\"\"},\"colorscale\":[[0.0,\"#0d0887\"],[0.1111111111111111,\"#46039f\"],[0.2222222222222222,\"#7201a8\"],[0.3333333333333333,\"#9c179e\"],[0.4444444444444444,\"#bd3786\"],[0.5555555555555556,\"#d8576b\"],[0.6666666666666666,\"#ed7953\"],[0.7777777777777778,\"#fb9f3a\"],[0.8888888888888888,\"#fdca26\"],[1.0,\"#f0f921\"]]}],\"choropleth\":[{\"type\":\"choropleth\",\"colorbar\":{\"outlinewidth\":0,\"ticks\":\"\"}}],\"histogram2d\":[{\"type\":\"histogram2d\",\"colorbar\":{\"outlinewidth\":0,\"ticks\":\"\"},\"colorscale\":[[0.0,\"#0d0887\"],[0.1111111111111111,\"#46039f\"],[0.2222222222222222,\"#7201a8\"],[0.3333333333333333,\"#9c179e\"],[0.4444444444444444,\"#bd3786\"],[0.5555555555555556,\"#d8576b\"],[0.6666666666666666,\"#ed7953\"],[0.7777777777777778,\"#fb9f3a\"],[0.8888888888888888,\"#fdca26\"],[1.0,\"#f0f921\"]]}],\"heatmap\":[{\"type\":\"heatmap\",\"colorbar\":{\"outlinewidth\":0,\"ticks\":\"\"},\"colorscale\":[[0.0,\"#0d0887\"],[0.1111111111111111,\"#46039f\"],[0.2222222222222222,\"#7201a8\"],[0.3333333333333333,\"#9c179e\"],[0.4444444444444444,\"#bd3786\"],[0.5555555555555556,\"#d8576b\"],[0.6666666666666666,\"#ed7953\"],[0.7777777777777778,\"#fb9f3a\"],[0.8888888888888888,\"#fdca26\"],[1.0,\"#f0f921\"]]}],\"heatmapgl\":[{\"type\":\"heatmapgl\",\"colorbar\":{\"outlinewidth\":0,\"ticks\":\"\"},\"colorscale\":[[0.0,\"#0d0887\"],[0.1111111111111111,\"#46039f\"],[0.2222222222222222,\"#7201a8\"],[0.3333333333333333,\"#9c179e\"],[0.4444444444444444,\"#bd3786\"],[0.5555555555555556,\"#d8576b\"],[0.6666666666666666,\"#ed7953\"],[0.7777777777777778,\"#fb9f3a\"],[0.8888888888888888,\"#fdca26\"],[1.0,\"#f0f921\"]]}],\"contourcarpet\":[{\"type\":\"contourcarpet\",\"colorbar\":{\"outlinewidth\":0,\"ticks\":\"\"}}],\"contour\":[{\"type\":\"contour\",\"colorbar\":{\"outlinewidth\":0,\"ticks\":\"\"},\"colorscale\":[[0.0,\"#0d0887\"],[0.1111111111111111,\"#46039f\"],[0.2222222222222222,\"#7201a8\"],[0.3333333333333333,\"#9c179e\"],[0.4444444444444444,\"#bd3786\"],[0.5555555555555556,\"#d8576b\"],[0.6666666666666666,\"#ed7953\"],[0.7777777777777778,\"#fb9f3a\"],[0.8888888888888888,\"#fdca26\"],[1.0,\"#f0f921\"]]}],\"surface\":[{\"type\":\"surface\",\"colorbar\":{\"outlinewidth\":0,\"ticks\":\"\"},\"colorscale\":[[0.0,\"#0d0887\"],[0.1111111111111111,\"#46039f\"],[0.2222222222222222,\"#7201a8\"],[0.3333333333333333,\"#9c179e\"],[0.4444444444444444,\"#bd3786\"],[0.5555555555555556,\"#d8576b\"],[0.6666666666666666,\"#ed7953\"],[0.7777777777777778,\"#fb9f3a\"],[0.8888888888888888,\"#fdca26\"],[1.0,\"#f0f921\"]]}],\"mesh3d\":[{\"type\":\"mesh3d\",\"colorbar\":{\"outlinewidth\":0,\"ticks\":\"\"}}],\"scatter\":[{\"fillpattern\":{\"fillmode\":\"overlay\",\"size\":10,\"solidity\":0.2},\"type\":\"scatter\"}],\"parcoords\":[{\"type\":\"parcoords\",\"line\":{\"colorbar\":{\"outlinewidth\":0,\"ticks\":\"\"}}}],\"scatterpolargl\":[{\"type\":\"scatterpolargl\",\"marker\":{\"colorbar\":{\"outlinewidth\":0,\"ticks\":\"\"}}}],\"bar\":[{\"error_x\":{\"color\":\"#2a3f5f\"},\"error_y\":{\"color\":\"#2a3f5f\"},\"marker\":{\"line\":{\"color\":\"#E5ECF6\",\"width\":0.5},\"pattern\":{\"fillmode\":\"overlay\",\"size\":10,\"solidity\":0.2}},\"type\":\"bar\"}],\"scattergeo\":[{\"type\":\"scattergeo\",\"marker\":{\"colorbar\":{\"outlinewidth\":0,\"ticks\":\"\"}}}],\"scatterpolar\":[{\"type\":\"scatterpolar\",\"marker\":{\"colorbar\":{\"outlinewidth\":0,\"ticks\":\"\"}}}],\"histogram\":[{\"marker\":{\"pattern\":{\"fillmode\":\"overlay\",\"size\":10,\"solidity\":0.2}},\"type\":\"histogram\"}],\"scattergl\":[{\"type\":\"scattergl\",\"marker\":{\"colorbar\":{\"outlinewidth\":0,\"ticks\":\"\"}}}],\"scatter3d\":[{\"type\":\"scatter3d\",\"line\":{\"colorbar\":{\"outlinewidth\":0,\"ticks\":\"\"}},\"marker\":{\"colorbar\":{\"outlinewidth\":0,\"ticks\":\"\"}}}],\"scattermapbox\":[{\"type\":\"scattermapbox\",\"marker\":{\"colorbar\":{\"outlinewidth\":0,\"ticks\":\"\"}}}],\"scatterternary\":[{\"type\":\"scatterternary\",\"marker\":{\"colorbar\":{\"outlinewidth\":0,\"ticks\":\"\"}}}],\"scattercarpet\":[{\"type\":\"scattercarpet\",\"marker\":{\"colorbar\":{\"outlinewidth\":0,\"ticks\":\"\"}}}],\"carpet\":[{\"aaxis\":{\"endlinecolor\":\"#2a3f5f\",\"gridcolor\":\"white\",\"linecolor\":\"white\",\"minorgridcolor\":\"white\",\"startlinecolor\":\"#2a3f5f\"},\"baxis\":{\"endlinecolor\":\"#2a3f5f\",\"gridcolor\":\"white\",\"linecolor\":\"white\",\"minorgridcolor\":\"white\",\"startlinecolor\":\"#2a3f5f\"},\"type\":\"carpet\"}],\"table\":[{\"cells\":{\"fill\":{\"color\":\"#EBF0F8\"},\"line\":{\"color\":\"white\"}},\"header\":{\"fill\":{\"color\":\"#C8D4E3\"},\"line\":{\"color\":\"white\"}},\"type\":\"table\"}],\"barpolar\":[{\"marker\":{\"line\":{\"color\":\"#E5ECF6\",\"width\":0.5},\"pattern\":{\"fillmode\":\"overlay\",\"size\":10,\"solidity\":0.2}},\"type\":\"barpolar\"}],\"pie\":[{\"automargin\":true,\"type\":\"pie\"}]},\"layout\":{\"autotypenumbers\":\"strict\",\"colorway\":[\"#636efa\",\"#EF553B\",\"#00cc96\",\"#ab63fa\",\"#FFA15A\",\"#19d3f3\",\"#FF6692\",\"#B6E880\",\"#FF97FF\",\"#FECB52\"],\"font\":{\"color\":\"#2a3f5f\"},\"hovermode\":\"closest\",\"hoverlabel\":{\"align\":\"left\"},\"paper_bgcolor\":\"white\",\"plot_bgcolor\":\"#E5ECF6\",\"polar\":{\"bgcolor\":\"#E5ECF6\",\"angularaxis\":{\"gridcolor\":\"white\",\"linecolor\":\"white\",\"ticks\":\"\"},\"radialaxis\":{\"gridcolor\":\"white\",\"linecolor\":\"white\",\"ticks\":\"\"}},\"ternary\":{\"bgcolor\":\"#E5ECF6\",\"aaxis\":{\"gridcolor\":\"white\",\"linecolor\":\"white\",\"ticks\":\"\"},\"baxis\":{\"gridcolor\":\"white\",\"linecolor\":\"white\",\"ticks\":\"\"},\"caxis\":{\"gridcolor\":\"white\",\"linecolor\":\"white\",\"ticks\":\"\"}},\"coloraxis\":{\"colorbar\":{\"outlinewidth\":0,\"ticks\":\"\"}},\"colorscale\":{\"sequential\":[[0.0,\"#0d0887\"],[0.1111111111111111,\"#46039f\"],[0.2222222222222222,\"#7201a8\"],[0.3333333333333333,\"#9c179e\"],[0.4444444444444444,\"#bd3786\"],[0.5555555555555556,\"#d8576b\"],[0.6666666666666666,\"#ed7953\"],[0.7777777777777778,\"#fb9f3a\"],[0.8888888888888888,\"#fdca26\"],[1.0,\"#f0f921\"]],\"sequentialminus\":[[0.0,\"#0d0887\"],[0.1111111111111111,\"#46039f\"],[0.2222222222222222,\"#7201a8\"],[0.3333333333333333,\"#9c179e\"],[0.4444444444444444,\"#bd3786\"],[0.5555555555555556,\"#d8576b\"],[0.6666666666666666,\"#ed7953\"],[0.7777777777777778,\"#fb9f3a\"],[0.8888888888888888,\"#fdca26\"],[1.0,\"#f0f921\"]],\"diverging\":[[0,\"#8e0152\"],[0.1,\"#c51b7d\"],[0.2,\"#de77ae\"],[0.3,\"#f1b6da\"],[0.4,\"#fde0ef\"],[0.5,\"#f7f7f7\"],[0.6,\"#e6f5d0\"],[0.7,\"#b8e186\"],[0.8,\"#7fbc41\"],[0.9,\"#4d9221\"],[1,\"#276419\"]]},\"xaxis\":{\"gridcolor\":\"white\",\"linecolor\":\"white\",\"ticks\":\"\",\"title\":{\"standoff\":15},\"zerolinecolor\":\"white\",\"automargin\":true,\"zerolinewidth\":2},\"yaxis\":{\"gridcolor\":\"white\",\"linecolor\":\"white\",\"ticks\":\"\",\"title\":{\"standoff\":15},\"zerolinecolor\":\"white\",\"automargin\":true,\"zerolinewidth\":2},\"scene\":{\"xaxis\":{\"backgroundcolor\":\"#E5ECF6\",\"gridcolor\":\"white\",\"linecolor\":\"white\",\"showbackground\":true,\"ticks\":\"\",\"zerolinecolor\":\"white\",\"gridwidth\":2},\"yaxis\":{\"backgroundcolor\":\"#E5ECF6\",\"gridcolor\":\"white\",\"linecolor\":\"white\",\"showbackground\":true,\"ticks\":\"\",\"zerolinecolor\":\"white\",\"gridwidth\":2},\"zaxis\":{\"backgroundcolor\":\"#E5ECF6\",\"gridcolor\":\"white\",\"linecolor\":\"white\",\"showbackground\":true,\"ticks\":\"\",\"zerolinecolor\":\"white\",\"gridwidth\":2}},\"shapedefaults\":{\"line\":{\"color\":\"#2a3f5f\"}},\"annotationdefaults\":{\"arrowcolor\":\"#2a3f5f\",\"arrowhead\":0,\"arrowwidth\":1},\"geo\":{\"bgcolor\":\"white\",\"landcolor\":\"#E5ECF6\",\"subunitcolor\":\"white\",\"showland\":true,\"showlakes\":true,\"lakecolor\":\"white\"},\"title\":{\"x\":0.05},\"mapbox\":{\"style\":\"light\"}}}},                        {\"responsive\": true}                    ).then(function(){\n",
              "                            \n",
              "var gd = document.getElementById('90e9e869-788d-46fc-a3aa-f4d34d68b9bb');\n",
              "var x = new MutationObserver(function (mutations, observer) {{\n",
              "        var display = window.getComputedStyle(gd).display;\n",
              "        if (!display || display === 'none') {{\n",
              "            console.log([gd, 'removed!']);\n",
              "            Plotly.purge(gd);\n",
              "            observer.disconnect();\n",
              "        }}\n",
              "}});\n",
              "\n",
              "// Listen for the removal of the full notebook cells\n",
              "var notebookContainer = gd.closest('#notebook-container');\n",
              "if (notebookContainer) {{\n",
              "    x.observe(notebookContainer, {childList: true});\n",
              "}}\n",
              "\n",
              "// Listen for the clearing of the current output cell\n",
              "var outputEl = gd.closest('.output');\n",
              "if (outputEl) {{\n",
              "    x.observe(outputEl, {childList: true});\n",
              "}}\n",
              "\n",
              "                        })                };                            </script>        </div>\n",
              "</body>\n",
              "</html>"
            ]
          },
          "metadata": {}
        }
      ]
    },
    {
      "cell_type": "code",
      "source": [
        "#Representing each position with a color\n",
        "position_colors = {'PG': 'red', 'SG': 'green', 'SF': 'blue', 'PF': 'orange', 'C': 'purple'}\n",
        "\n",
        "#Create scatter plot\n",
        "trace = go.Scatter(\n",
        "    x=filtered_stats['WS'],\n",
        "    y=filtered_stats['BPM'],\n",
        "    mode='markers',\n",
        "    text=labels,  # set the labels to show on hover\n",
        "    hovertemplate='Point %{text}: (%{x:.2f}, %{y:.2f})<extra></extra>',  # customize the hover text\n",
        "    marker=dict(\n",
        "        color=[nba_team_colors[p] for p in filtered_stats['Tm']],\n",
        "        size=10,\n",
        "        opacity=0.7,\n",
        "        symbol='circle')\n",
        ")"
      ],
      "metadata": {
        "id": "ZaumArOI3L-t"
      },
      "execution_count": null,
      "outputs": []
    },
    {
      "cell_type": "code",
      "source": [
        "# Create the layout for the plot\n",
        "layout = go.Layout(\n",
        "    title='BPM vs Win Shares',\n",
        "    xaxis=dict(title='Win Shares'),\n",
        "    yaxis=dict(title='BPM'),\n",
        ")\n",
        "\n",
        "# Combine the trace and layout into a figure\n",
        "fig = go.Figure(data=[trace], layout=layout)\n",
        "\n",
        "# Show the plot\n",
        "fig.show()"
      ],
      "metadata": {
        "colab": {
          "base_uri": "https://localhost:8080/",
          "height": 542
        },
        "id": "kAPSmds33Oq0",
        "outputId": "581c1095-2ddc-4b1c-8226-d1f34b2f54ae"
      },
      "execution_count": null,
      "outputs": [
        {
          "output_type": "display_data",
          "data": {
            "text/html": [
              "<html>\n",
              "<head><meta charset=\"utf-8\" /></head>\n",
              "<body>\n",
              "    <div>            <script src=\"https://cdnjs.cloudflare.com/ajax/libs/mathjax/2.7.5/MathJax.js?config=TeX-AMS-MML_SVG\"></script><script type=\"text/javascript\">if (window.MathJax && window.MathJax.Hub && window.MathJax.Hub.Config) {window.MathJax.Hub.Config({SVG: {font: \"STIX-Web\"}});}</script>                <script type=\"text/javascript\">window.PlotlyConfig = {MathJaxConfig: 'local'};</script>\n",
              "        <script src=\"https://cdn.plot.ly/plotly-2.18.2.min.js\"></script>                <div id=\"97644478-77ca-43ff-8383-104b9114e96b\" class=\"plotly-graph-div\" style=\"height:525px; width:100%;\"></div>            <script type=\"text/javascript\">                                    window.PLOTLYENV=window.PLOTLYENV || {};                                    if (document.getElementById(\"97644478-77ca-43ff-8383-104b9114e96b\")) {                    Plotly.newPlot(                        \"97644478-77ca-43ff-8383-104b9114e96b\",                        [{\"hovertemplate\":\"Point %{text}: (%{x:.2f}, %{y:.2f})<extra></extra>\",\"marker\":{\"color\":[\"#98002E\",\"#5D76A9\",\"#00471B\",\"#6F263D\",\"#0C2340\",\"#00471B\",\"#0077C0\",\"#CE1141\",\"#E31837\",\"#1D1160\",\"#0077C0\",\"#5D76A9\",\"#5A2D81\",\"#CE1141\",\"#F58426\",\"#C8102E\",\"#E31837\",\"#C8102E\",\"#E03A3E\",\"#C8102E\",\"#0077C0\",\"#1D1160\",\"#CE1141\",\"#C4CED4\",\"#1D1160\",\"#007A33\",\"#5D76A9\",\"#0E2240\",\"#007A33\",\"#552583\",\"#F58426\",\"#00538C\",\"#98002E\",\"#0E2240\",\"#E03A3E\",\"#00471B\",\"#0077C0\",\"#CE1141\",\"#002B5C\",\"#000000\",\"#E03A3E\",\"#1D1160\",\"#1D428A\",\"#552583\",\"#CE1141\",\"#00538C\",\"#1D428A\",\"#00538C\",\"#007AC1\",\"#CE1141\",\"#C8102E\",\"#CE1141\",\"#0C2340\",\"#ED174C\",\"#E03A3E\",\"#5A2D81\",\"#0077C0\",\"#E31837\",\"#6F263D\",\"#C8102E\",\"#007AC1\",\"#007AC1\",\"#0C2340\",\"#0E2240\",\"#E03A3E\",\"#1D428A\",\"#CE1141\",\"#00538C\",\"#F58426\",\"#002D62\",\"#00538C\",\"#ED174C\",\"#000000\",\"#ED174C\",\"#E03A3E\",\"#F58426\",\"#C8102E\",\"#1D1160\",\"#98002E\",\"#002D62\",\"#00471B\",\"#007A33\",\"#5A2D81\",\"#E03A3E\",\"#0C2340\",\"#C8102E\",\"#5D76A9\",\"#552583\",\"#C4CED4\",\"#0E2240\",\"#0C2340\",\"#C4CED4\",\"#5D76A9\",\"#002B5C\",\"#E31837\",\"#E31837\",\"#CE1141\",\"#1D1160\",\"#C8102E\",\"#6F263D\",\"#E03A3E\",\"#1D428A\",\"#00471B\",\"#98002E\",\"#C8102E\",\"#002B5C\",\"#0C2340\",\"#98002E\",\"#CE1141\",\"#002D62\",\"#ED174C\",\"#0C2340\",\"#002D62\",\"#0C2340\",\"#ED174C\",\"#ED174C\",\"#6F263D\",\"#6F263D\",\"#5A2D81\",\"#5D76A9\",\"#C8102E\",\"#E31837\",\"#0C2340\",\"#E03A3E\",\"#0E2240\",\"#5A2D81\",\"#002D62\",\"#002D62\",\"#ED174C\",\"#000000\",\"#E03A3E\",\"#6F263D\",\"#002B5C\",\"#6F263D\",\"#1D1160\",\"#1D1160\",\"#1D1160\",\"#1D428A\",\"#CE1141\",\"#0E2240\",\"#00471B\",\"#E31837\",\"#C8102E\",\"#F58426\",\"#F58426\",\"#552583\",\"#F58426\",\"#1D1160\",\"#0C2340\",\"#5A2D81\",\"#552583\",\"#CE1141\",\"#E03A3E\",\"#CE1141\",\"#E03A3E\",\"#007A33\",\"#CE1141\",\"#98002E\",\"#007A33\",\"#1D428A\",\"#CE1141\",\"#ED174C\",\"#002D62\",\"#0C2340\",\"#CE1141\",\"#98002E\",\"#CE1141\",\"#0077C0\",\"#1D1160\",\"#CE1141\",\"#007A33\",\"#007A33\",\"#007AC1\",\"#CE1141\",\"#00538C\",\"#E03A3E\",\"#C8102E\"],\"opacity\":0.7,\"size\":10,\"symbol\":\"circle\"},\"mode\":\"markers\",\"text\":[\"Bam Adebayo\",\"Santi Aldama\",\"Grayson Allen\",\"Jarrett Allen\",\"Kyle Anderson\",\"Giannis Antetokounmpo\",\"Cole Anthony\",\"OG Anunoby\",\"Deni Avdija\",\"Deandre Ayton\",\"Paolo Banchero\",\"Desmond Bane\",\"Harrison Barnes\",\"Scottie Barnes\",\"RJ Barrett\",\"Nicolas Batum\",\"Bradley Beal\",\"Saddiq Bey\",\"Bogdan Bogdanovi\\u0107\",\"Bojan Bogdanovi\\u0107\",\"Bol Bol\",\"Devin Booker\",\"Chris Boucher\",\"Malaki Branham\",\"Mikal Bridges\",\"Malcolm Brogdon\",\"Dillon Brooks\",\"Bruce Brown\",\"Jaylen Brown\",\"Troy Brown Jr.\",\"Jalen Brunson\",\"Reggie Bullock\",\"Jimmy Butler\",\"Kentavious Caldwell-Pope\",\"Clint Capela\",\"Jevon Carter\",\"Wendell Carter Jr.\",\"Alex Caruso\",\"Jordan Clarkson\",\"Nic Claxton\",\"John Collins\",\"Torrey Craig\",\"Stephen Curry\",\"Anthony Davis\",\"DeMar DeRozan\",\"Spencer Dinwiddie\",\"Donte DiVincenzo\",\"Luka Don\\u010di\\u0107\",\"Luguentz Dort\",\"Ayo Dosunmu\",\"Jalen Duren\",\"Tari Eason\",\"Anthony Edwards\",\"Joel Embiid\",\"Drew Eubanks\",\"De'Aaron Fox\",\"Markelle Fultz\",\"Daniel Gafford\",\"Darius Garland\",\"Paul George\",\"Josh Giddey\",\"Shai Gilgeous-Alexander\",\"Rudy Gobert\",\"Aaron Gordon\",\"Jerami Grant\",\"Draymond Green\",\"Jalen Green\",\"Josh Green\",\"Quentin Grimes\",\"Tyrese Haliburton\",\"Tim Hardaway Jr.\",\"James Harden\",\"Joe Harris\",\"Tobias Harris\",\"Josh Hart\",\"Isaiah Hartenstein\",\"Killian Hayes\",\"Gordon Hayward\",\"Tyler Herro\",\"Buddy Hield\",\"Jrue Holiday\",\"Al Horford\",\"Kevin Huerter\",\"De'Andre Hunter\",\"Brandon Ingram\",\"Jaden Ivey\",\"Jaren Jackson Jr.\",\"LeBron James\",\"Keldon Johnson\",\"Nikola Joki\\u0107\",\"Herbert Jones\",\"Tre Jones\",\"Tyus Jones\",\"Walker Kessler\",\"Corey Kispert\",\"Kyle Kuzma\",\"Zach LaVine\",\"Damion Lee\",\"Kawhi Leonard\",\"Caris LeVert\",\"Damian Lillard\",\"Kevon Looney\",\"Brook Lopez\",\"Kyle Lowry\",\"Terance Mann\",\"Lauri Markkanen\",\"Naji Marshall\",\"Caleb Martin\",\"Kenyon Martin Jr.\",\"Bennedict Mathurin\",\"Tyrese Maxey\",\"CJ McCollum\",\"T.J. McConnell\",\"Jaden McDaniels\",\"De'Anthony Melton\",\"Shake Milton\",\"Donovan Mitchell\",\"Evan Mobley\",\"Malik Monk\",\"Ja Morant\",\"Marcus Morris\",\"Monte Morris\",\"Trey Murphy III\",\"Dejounte Murray\",\"Jamal Murray\",\"Keegan Murray\",\"Andrew Nembhard\",\"Aaron Nesmith\",\"Georges Niang\",\"Royce O'Neale\",\"Onyeka Okongwu\",\"Isaac Okoro\",\"Kelly Olynyk\",\"Cedi Osman\",\"Kelly Oubre Jr.\",\"Chris Paul\",\"Mason Plumlee\",\"Jordan Poole\",\"Kevin Porter Jr.\",\"Michael Porter Jr.\",\"Bobby Portis\",\"Kristaps Porzi\\u0146\\u0123is\",\"Norman Powell\",\"Immanuel Quickley\",\"Julius Randle\",\"Austin Reaves\",\"Mitchell Robinson\",\"Terry Rozier\",\"D'Angelo Russell\",\"Domantas Sabonis\",\"Dennis Schr\\u00f6der\",\"Alperen \\u015eeng\\u00fcn\",\"Shaedon Sharpe\",\"Pascal Siakam\",\"Anfernee Simons\",\"Marcus Smart\",\"Jabari Smith Jr.\",\"Max Strus\",\"Jayson Tatum\",\"Klay Thompson\",\"Gary Trent Jr.\",\"P.J. Tucker\",\"Myles Turner\",\"Jonas Valan\\u010di\\u016bnas\",\"Fred VanVleet\",\"Gabe Vincent\",\"Nikola Vu\\u010devi\\u0107\",\"Franz Wagner\",\"P.J. Washington\",\"Coby White\",\"Derrick White\",\"Grant Williams\",\"Jalen Williams\",\"Patrick Williams\",\"Christian Wood\",\"Trae Young\",\"Ivica Zubac\"],\"x\":[7.4,4.6,5.1,9.5,5.1,8.6,3.7,4.7,2.3,6.2,2.4,5.8,6.5,5.0,2.2,3.6,3.4,2.3,2.8,3.5,2.3,6.0,5.0,-0.1,4.9,5.8,1.6,4.3,5.0,2.9,8.7,2.8,12.3,4.5,7.2,3.5,4.6,3.6,1.7,9.2,4.2,4.0,7.8,9.0,8.5,4.3,4.2,10.2,2.9,2.9,4.5,2.6,3.8,12.3,4.4,7.4,3.7,6.1,7.6,4.6,4.0,11.4,7.8,6.8,4.1,4.7,1.8,2.6,4.8,7.6,2.3,8.4,2.6,5.9,3.2,4.6,-0.5,2.0,3.5,4.4,6.7,6.3,4.9,2.5,3.5,0.0,6.6,5.6,1.3,14.9,4.2,3.4,5.7,7.1,3.8,0.9,7.1,2.6,7.1,4.4,9.0,8.7,8.0,3.4,4.3,8.2,2.5,3.7,4.9,1.8,5.4,4.3,3.1,4.4,4.2,2.9,8.9,8.5,3.2,6.0,2.0,4.2,7.6,4.7,5.1,4.3,1.2,2.0,2.5,2.9,7.1,4.2,4.3,3.3,1.7,6.2,6.1,3.2,2.9,4.3,5.3,7.7,3.5,6.7,8.1,5.4,6.5,1.7,3.8,12.6,2.8,5.2,1.2,7.8,2.5,3.7,1.9,3.4,10.5,3.1,4.5,2.5,5.4,5.8,6.5,1.4,8.3,5.4,2.6,3.1,7.4,4.4,5.6,3.5,4.8,6.7,6.7],\"y\":[1.5,0.5,0.1,2.4,2.5,8.5,1.3,0.4,-2.3,0.9,-1.5,3.5,-1.0,0.4,-3.1,0.5,1.8,-0.7,0.5,0.9,-0.9,4.2,-0.1,-5.2,1.0,2.8,-3.9,-0.5,1.3,-1.0,3.9,-2.6,8.7,-1.0,2.2,-0.6,1.0,1.1,-1.4,3.1,-1.3,-0.6,7.6,6.3,2.0,0.9,0.7,9.0,-3.0,-2.5,-0.8,-1.7,1.0,9.2,0.1,2.5,0.5,1.0,2.4,2.8,1.1,7.3,0.7,2.1,-0.2,0.8,-2.1,-2.4,-0.1,7.2,-1.8,5.4,-1.2,0.7,-0.2,-0.3,-3.8,-1.4,0.6,1.9,3.1,3.3,1.0,-3.3,1.7,-3.3,2.8,6.1,-1.8,13.0,-0.3,-1.0,1.6,2.9,-1.5,-1.7,1.9,-1.7,6.1,-0.2,7.1,2.1,2.1,0.2,-0.2,3.8,-1.9,-1.2,-0.7,-3.7,0.7,0.8,0.5,-1.2,0.9,-2.0,6.3,1.7,0.3,5.7,-1.9,0.5,1.8,1.0,1.3,-0.6,-3.2,-3.0,-1.4,-1.1,0.8,-0.3,0.4,-0.7,-1.1,3.2,2.4,-1.8,0.6,0.2,0.7,4.3,0.3,1.7,3.7,0.7,2.4,-0.6,1.2,5.8,-2.9,1.4,-3.3,3.1,-1.1,-1.0,-3.7,-1.7,5.5,-0.3,0.2,-3.0,2.1,-0.4,2.5,-3.4,2.7,-0.1,-1.3,-0.8,2.4,-1.1,0.3,-1.3,1.7,3.3,-0.9],\"type\":\"scatter\"}],                        {\"title\":{\"text\":\"BPM vs Win Shares\"},\"xaxis\":{\"title\":{\"text\":\"Win Shares\"}},\"yaxis\":{\"title\":{\"text\":\"BPM\"}},\"template\":{\"data\":{\"histogram2dcontour\":[{\"type\":\"histogram2dcontour\",\"colorbar\":{\"outlinewidth\":0,\"ticks\":\"\"},\"colorscale\":[[0.0,\"#0d0887\"],[0.1111111111111111,\"#46039f\"],[0.2222222222222222,\"#7201a8\"],[0.3333333333333333,\"#9c179e\"],[0.4444444444444444,\"#bd3786\"],[0.5555555555555556,\"#d8576b\"],[0.6666666666666666,\"#ed7953\"],[0.7777777777777778,\"#fb9f3a\"],[0.8888888888888888,\"#fdca26\"],[1.0,\"#f0f921\"]]}],\"choropleth\":[{\"type\":\"choropleth\",\"colorbar\":{\"outlinewidth\":0,\"ticks\":\"\"}}],\"histogram2d\":[{\"type\":\"histogram2d\",\"colorbar\":{\"outlinewidth\":0,\"ticks\":\"\"},\"colorscale\":[[0.0,\"#0d0887\"],[0.1111111111111111,\"#46039f\"],[0.2222222222222222,\"#7201a8\"],[0.3333333333333333,\"#9c179e\"],[0.4444444444444444,\"#bd3786\"],[0.5555555555555556,\"#d8576b\"],[0.6666666666666666,\"#ed7953\"],[0.7777777777777778,\"#fb9f3a\"],[0.8888888888888888,\"#fdca26\"],[1.0,\"#f0f921\"]]}],\"heatmap\":[{\"type\":\"heatmap\",\"colorbar\":{\"outlinewidth\":0,\"ticks\":\"\"},\"colorscale\":[[0.0,\"#0d0887\"],[0.1111111111111111,\"#46039f\"],[0.2222222222222222,\"#7201a8\"],[0.3333333333333333,\"#9c179e\"],[0.4444444444444444,\"#bd3786\"],[0.5555555555555556,\"#d8576b\"],[0.6666666666666666,\"#ed7953\"],[0.7777777777777778,\"#fb9f3a\"],[0.8888888888888888,\"#fdca26\"],[1.0,\"#f0f921\"]]}],\"heatmapgl\":[{\"type\":\"heatmapgl\",\"colorbar\":{\"outlinewidth\":0,\"ticks\":\"\"},\"colorscale\":[[0.0,\"#0d0887\"],[0.1111111111111111,\"#46039f\"],[0.2222222222222222,\"#7201a8\"],[0.3333333333333333,\"#9c179e\"],[0.4444444444444444,\"#bd3786\"],[0.5555555555555556,\"#d8576b\"],[0.6666666666666666,\"#ed7953\"],[0.7777777777777778,\"#fb9f3a\"],[0.8888888888888888,\"#fdca26\"],[1.0,\"#f0f921\"]]}],\"contourcarpet\":[{\"type\":\"contourcarpet\",\"colorbar\":{\"outlinewidth\":0,\"ticks\":\"\"}}],\"contour\":[{\"type\":\"contour\",\"colorbar\":{\"outlinewidth\":0,\"ticks\":\"\"},\"colorscale\":[[0.0,\"#0d0887\"],[0.1111111111111111,\"#46039f\"],[0.2222222222222222,\"#7201a8\"],[0.3333333333333333,\"#9c179e\"],[0.4444444444444444,\"#bd3786\"],[0.5555555555555556,\"#d8576b\"],[0.6666666666666666,\"#ed7953\"],[0.7777777777777778,\"#fb9f3a\"],[0.8888888888888888,\"#fdca26\"],[1.0,\"#f0f921\"]]}],\"surface\":[{\"type\":\"surface\",\"colorbar\":{\"outlinewidth\":0,\"ticks\":\"\"},\"colorscale\":[[0.0,\"#0d0887\"],[0.1111111111111111,\"#46039f\"],[0.2222222222222222,\"#7201a8\"],[0.3333333333333333,\"#9c179e\"],[0.4444444444444444,\"#bd3786\"],[0.5555555555555556,\"#d8576b\"],[0.6666666666666666,\"#ed7953\"],[0.7777777777777778,\"#fb9f3a\"],[0.8888888888888888,\"#fdca26\"],[1.0,\"#f0f921\"]]}],\"mesh3d\":[{\"type\":\"mesh3d\",\"colorbar\":{\"outlinewidth\":0,\"ticks\":\"\"}}],\"scatter\":[{\"fillpattern\":{\"fillmode\":\"overlay\",\"size\":10,\"solidity\":0.2},\"type\":\"scatter\"}],\"parcoords\":[{\"type\":\"parcoords\",\"line\":{\"colorbar\":{\"outlinewidth\":0,\"ticks\":\"\"}}}],\"scatterpolargl\":[{\"type\":\"scatterpolargl\",\"marker\":{\"colorbar\":{\"outlinewidth\":0,\"ticks\":\"\"}}}],\"bar\":[{\"error_x\":{\"color\":\"#2a3f5f\"},\"error_y\":{\"color\":\"#2a3f5f\"},\"marker\":{\"line\":{\"color\":\"#E5ECF6\",\"width\":0.5},\"pattern\":{\"fillmode\":\"overlay\",\"size\":10,\"solidity\":0.2}},\"type\":\"bar\"}],\"scattergeo\":[{\"type\":\"scattergeo\",\"marker\":{\"colorbar\":{\"outlinewidth\":0,\"ticks\":\"\"}}}],\"scatterpolar\":[{\"type\":\"scatterpolar\",\"marker\":{\"colorbar\":{\"outlinewidth\":0,\"ticks\":\"\"}}}],\"histogram\":[{\"marker\":{\"pattern\":{\"fillmode\":\"overlay\",\"size\":10,\"solidity\":0.2}},\"type\":\"histogram\"}],\"scattergl\":[{\"type\":\"scattergl\",\"marker\":{\"colorbar\":{\"outlinewidth\":0,\"ticks\":\"\"}}}],\"scatter3d\":[{\"type\":\"scatter3d\",\"line\":{\"colorbar\":{\"outlinewidth\":0,\"ticks\":\"\"}},\"marker\":{\"colorbar\":{\"outlinewidth\":0,\"ticks\":\"\"}}}],\"scattermapbox\":[{\"type\":\"scattermapbox\",\"marker\":{\"colorbar\":{\"outlinewidth\":0,\"ticks\":\"\"}}}],\"scatterternary\":[{\"type\":\"scatterternary\",\"marker\":{\"colorbar\":{\"outlinewidth\":0,\"ticks\":\"\"}}}],\"scattercarpet\":[{\"type\":\"scattercarpet\",\"marker\":{\"colorbar\":{\"outlinewidth\":0,\"ticks\":\"\"}}}],\"carpet\":[{\"aaxis\":{\"endlinecolor\":\"#2a3f5f\",\"gridcolor\":\"white\",\"linecolor\":\"white\",\"minorgridcolor\":\"white\",\"startlinecolor\":\"#2a3f5f\"},\"baxis\":{\"endlinecolor\":\"#2a3f5f\",\"gridcolor\":\"white\",\"linecolor\":\"white\",\"minorgridcolor\":\"white\",\"startlinecolor\":\"#2a3f5f\"},\"type\":\"carpet\"}],\"table\":[{\"cells\":{\"fill\":{\"color\":\"#EBF0F8\"},\"line\":{\"color\":\"white\"}},\"header\":{\"fill\":{\"color\":\"#C8D4E3\"},\"line\":{\"color\":\"white\"}},\"type\":\"table\"}],\"barpolar\":[{\"marker\":{\"line\":{\"color\":\"#E5ECF6\",\"width\":0.5},\"pattern\":{\"fillmode\":\"overlay\",\"size\":10,\"solidity\":0.2}},\"type\":\"barpolar\"}],\"pie\":[{\"automargin\":true,\"type\":\"pie\"}]},\"layout\":{\"autotypenumbers\":\"strict\",\"colorway\":[\"#636efa\",\"#EF553B\",\"#00cc96\",\"#ab63fa\",\"#FFA15A\",\"#19d3f3\",\"#FF6692\",\"#B6E880\",\"#FF97FF\",\"#FECB52\"],\"font\":{\"color\":\"#2a3f5f\"},\"hovermode\":\"closest\",\"hoverlabel\":{\"align\":\"left\"},\"paper_bgcolor\":\"white\",\"plot_bgcolor\":\"#E5ECF6\",\"polar\":{\"bgcolor\":\"#E5ECF6\",\"angularaxis\":{\"gridcolor\":\"white\",\"linecolor\":\"white\",\"ticks\":\"\"},\"radialaxis\":{\"gridcolor\":\"white\",\"linecolor\":\"white\",\"ticks\":\"\"}},\"ternary\":{\"bgcolor\":\"#E5ECF6\",\"aaxis\":{\"gridcolor\":\"white\",\"linecolor\":\"white\",\"ticks\":\"\"},\"baxis\":{\"gridcolor\":\"white\",\"linecolor\":\"white\",\"ticks\":\"\"},\"caxis\":{\"gridcolor\":\"white\",\"linecolor\":\"white\",\"ticks\":\"\"}},\"coloraxis\":{\"colorbar\":{\"outlinewidth\":0,\"ticks\":\"\"}},\"colorscale\":{\"sequential\":[[0.0,\"#0d0887\"],[0.1111111111111111,\"#46039f\"],[0.2222222222222222,\"#7201a8\"],[0.3333333333333333,\"#9c179e\"],[0.4444444444444444,\"#bd3786\"],[0.5555555555555556,\"#d8576b\"],[0.6666666666666666,\"#ed7953\"],[0.7777777777777778,\"#fb9f3a\"],[0.8888888888888888,\"#fdca26\"],[1.0,\"#f0f921\"]],\"sequentialminus\":[[0.0,\"#0d0887\"],[0.1111111111111111,\"#46039f\"],[0.2222222222222222,\"#7201a8\"],[0.3333333333333333,\"#9c179e\"],[0.4444444444444444,\"#bd3786\"],[0.5555555555555556,\"#d8576b\"],[0.6666666666666666,\"#ed7953\"],[0.7777777777777778,\"#fb9f3a\"],[0.8888888888888888,\"#fdca26\"],[1.0,\"#f0f921\"]],\"diverging\":[[0,\"#8e0152\"],[0.1,\"#c51b7d\"],[0.2,\"#de77ae\"],[0.3,\"#f1b6da\"],[0.4,\"#fde0ef\"],[0.5,\"#f7f7f7\"],[0.6,\"#e6f5d0\"],[0.7,\"#b8e186\"],[0.8,\"#7fbc41\"],[0.9,\"#4d9221\"],[1,\"#276419\"]]},\"xaxis\":{\"gridcolor\":\"white\",\"linecolor\":\"white\",\"ticks\":\"\",\"title\":{\"standoff\":15},\"zerolinecolor\":\"white\",\"automargin\":true,\"zerolinewidth\":2},\"yaxis\":{\"gridcolor\":\"white\",\"linecolor\":\"white\",\"ticks\":\"\",\"title\":{\"standoff\":15},\"zerolinecolor\":\"white\",\"automargin\":true,\"zerolinewidth\":2},\"scene\":{\"xaxis\":{\"backgroundcolor\":\"#E5ECF6\",\"gridcolor\":\"white\",\"linecolor\":\"white\",\"showbackground\":true,\"ticks\":\"\",\"zerolinecolor\":\"white\",\"gridwidth\":2},\"yaxis\":{\"backgroundcolor\":\"#E5ECF6\",\"gridcolor\":\"white\",\"linecolor\":\"white\",\"showbackground\":true,\"ticks\":\"\",\"zerolinecolor\":\"white\",\"gridwidth\":2},\"zaxis\":{\"backgroundcolor\":\"#E5ECF6\",\"gridcolor\":\"white\",\"linecolor\":\"white\",\"showbackground\":true,\"ticks\":\"\",\"zerolinecolor\":\"white\",\"gridwidth\":2}},\"shapedefaults\":{\"line\":{\"color\":\"#2a3f5f\"}},\"annotationdefaults\":{\"arrowcolor\":\"#2a3f5f\",\"arrowhead\":0,\"arrowwidth\":1},\"geo\":{\"bgcolor\":\"white\",\"landcolor\":\"#E5ECF6\",\"subunitcolor\":\"white\",\"showland\":true,\"showlakes\":true,\"lakecolor\":\"white\"},\"title\":{\"x\":0.05},\"mapbox\":{\"style\":\"light\"}}}},                        {\"responsive\": true}                    ).then(function(){\n",
              "                            \n",
              "var gd = document.getElementById('97644478-77ca-43ff-8383-104b9114e96b');\n",
              "var x = new MutationObserver(function (mutations, observer) {{\n",
              "        var display = window.getComputedStyle(gd).display;\n",
              "        if (!display || display === 'none') {{\n",
              "            console.log([gd, 'removed!']);\n",
              "            Plotly.purge(gd);\n",
              "            observer.disconnect();\n",
              "        }}\n",
              "}});\n",
              "\n",
              "// Listen for the removal of the full notebook cells\n",
              "var notebookContainer = gd.closest('#notebook-container');\n",
              "if (notebookContainer) {{\n",
              "    x.observe(notebookContainer, {childList: true});\n",
              "}}\n",
              "\n",
              "// Listen for the clearing of the current output cell\n",
              "var outputEl = gd.closest('.output');\n",
              "if (outputEl) {{\n",
              "    x.observe(outputEl, {childList: true});\n",
              "}}\n",
              "\n",
              "                        })                };                            </script>        </div>\n",
              "</body>\n",
              "</html>"
            ]
          },
          "metadata": {}
        }
      ]
    },
    {
      "cell_type": "code",
      "source": [
        "#Create a dictionary representing each position with a color\n",
        "position_colors = {'PG': 'red', 'SG': 'green', 'SF': 'blue', 'PF': 'orange', 'C': 'purple'}\n",
        "\n",
        "#Create plot\n",
        "trace = go.Scatter(\n",
        "    x=filtered_stats['WS'],\n",
        "    y=filtered_stats['PER'],\n",
        "    mode='markers',\n",
        "    text=labels,  # set the labels to show on hover\n",
        "    hovertemplate='Point %{text}: (%{x:.2f}, %{y:.2f})<extra></extra>',  # customize the hover text\n",
        "    marker=dict(\n",
        "        color=[nba_team_colors[p] for p in filtered_stats['Tm']],\n",
        "        size=10,\n",
        "        opacity=0.7,\n",
        "        symbol='circle')\n",
        ")"
      ],
      "metadata": {
        "id": "FiFVGB5N9Car"
      },
      "execution_count": null,
      "outputs": []
    },
    {
      "cell_type": "code",
      "source": [
        "# Create the layout for the plot and title axes\n",
        "layout = go.Layout(\n",
        "    title='PER vs Win Shares',\n",
        "    xaxis=dict(title='Win Shares'),\n",
        "    yaxis=dict(title='PER'),\n",
        ")\n",
        "\n",
        "# Combine the trace and layout into a figure\n",
        "fig = go.Figure(data=[trace], layout=layout)\n",
        "\n",
        "# Show the plot\n",
        "fig.show()"
      ],
      "metadata": {
        "colab": {
          "base_uri": "https://localhost:8080/",
          "height": 542
        },
        "id": "81l2G_tD9D5S",
        "outputId": "7a75d790-32b4-4ac3-f8cd-deae86b32ff9"
      },
      "execution_count": null,
      "outputs": [
        {
          "output_type": "display_data",
          "data": {
            "text/html": [
              "<html>\n",
              "<head><meta charset=\"utf-8\" /></head>\n",
              "<body>\n",
              "    <div>            <script src=\"https://cdnjs.cloudflare.com/ajax/libs/mathjax/2.7.5/MathJax.js?config=TeX-AMS-MML_SVG\"></script><script type=\"text/javascript\">if (window.MathJax && window.MathJax.Hub && window.MathJax.Hub.Config) {window.MathJax.Hub.Config({SVG: {font: \"STIX-Web\"}});}</script>                <script type=\"text/javascript\">window.PlotlyConfig = {MathJaxConfig: 'local'};</script>\n",
              "        <script src=\"https://cdn.plot.ly/plotly-2.18.2.min.js\"></script>                <div id=\"cdd631ea-0647-40e6-95a2-266ee1935711\" class=\"plotly-graph-div\" style=\"height:525px; width:100%;\"></div>            <script type=\"text/javascript\">                                    window.PLOTLYENV=window.PLOTLYENV || {};                                    if (document.getElementById(\"cdd631ea-0647-40e6-95a2-266ee1935711\")) {                    Plotly.newPlot(                        \"cdd631ea-0647-40e6-95a2-266ee1935711\",                        [{\"hovertemplate\":\"Point %{text}: (%{x:.2f}, %{y:.2f})<extra></extra>\",\"marker\":{\"color\":[\"#98002E\",\"#5D76A9\",\"#00471B\",\"#6F263D\",\"#0C2340\",\"#00471B\",\"#0077C0\",\"#CE1141\",\"#E31837\",\"#1D1160\",\"#0077C0\",\"#5D76A9\",\"#5A2D81\",\"#CE1141\",\"#F58426\",\"#C8102E\",\"#E31837\",\"#C8102E\",\"#E03A3E\",\"#C8102E\",\"#0077C0\",\"#1D1160\",\"#CE1141\",\"#C4CED4\",\"#1D1160\",\"#007A33\",\"#5D76A9\",\"#0E2240\",\"#007A33\",\"#552583\",\"#F58426\",\"#00538C\",\"#98002E\",\"#0E2240\",\"#E03A3E\",\"#00471B\",\"#0077C0\",\"#CE1141\",\"#002B5C\",\"#000000\",\"#E03A3E\",\"#1D1160\",\"#1D428A\",\"#552583\",\"#CE1141\",\"#00538C\",\"#1D428A\",\"#00538C\",\"#007AC1\",\"#CE1141\",\"#C8102E\",\"#CE1141\",\"#0C2340\",\"#ED174C\",\"#E03A3E\",\"#5A2D81\",\"#0077C0\",\"#E31837\",\"#6F263D\",\"#C8102E\",\"#007AC1\",\"#007AC1\",\"#0C2340\",\"#0E2240\",\"#E03A3E\",\"#1D428A\",\"#CE1141\",\"#00538C\",\"#F58426\",\"#002D62\",\"#00538C\",\"#ED174C\",\"#000000\",\"#ED174C\",\"#E03A3E\",\"#F58426\",\"#C8102E\",\"#1D1160\",\"#98002E\",\"#002D62\",\"#00471B\",\"#007A33\",\"#5A2D81\",\"#E03A3E\",\"#0C2340\",\"#C8102E\",\"#5D76A9\",\"#552583\",\"#C4CED4\",\"#0E2240\",\"#0C2340\",\"#C4CED4\",\"#5D76A9\",\"#002B5C\",\"#E31837\",\"#E31837\",\"#CE1141\",\"#1D1160\",\"#C8102E\",\"#6F263D\",\"#E03A3E\",\"#1D428A\",\"#00471B\",\"#98002E\",\"#C8102E\",\"#002B5C\",\"#0C2340\",\"#98002E\",\"#CE1141\",\"#002D62\",\"#ED174C\",\"#0C2340\",\"#002D62\",\"#0C2340\",\"#ED174C\",\"#ED174C\",\"#6F263D\",\"#6F263D\",\"#5A2D81\",\"#5D76A9\",\"#C8102E\",\"#E31837\",\"#0C2340\",\"#E03A3E\",\"#0E2240\",\"#5A2D81\",\"#002D62\",\"#002D62\",\"#ED174C\",\"#000000\",\"#E03A3E\",\"#6F263D\",\"#002B5C\",\"#6F263D\",\"#1D1160\",\"#1D1160\",\"#1D1160\",\"#1D428A\",\"#CE1141\",\"#0E2240\",\"#00471B\",\"#E31837\",\"#C8102E\",\"#F58426\",\"#F58426\",\"#552583\",\"#F58426\",\"#1D1160\",\"#0C2340\",\"#5A2D81\",\"#552583\",\"#CE1141\",\"#E03A3E\",\"#CE1141\",\"#E03A3E\",\"#007A33\",\"#CE1141\",\"#98002E\",\"#007A33\",\"#1D428A\",\"#CE1141\",\"#ED174C\",\"#002D62\",\"#0C2340\",\"#CE1141\",\"#98002E\",\"#CE1141\",\"#0077C0\",\"#1D1160\",\"#CE1141\",\"#007A33\",\"#007A33\",\"#007AC1\",\"#CE1141\",\"#00538C\",\"#E03A3E\",\"#C8102E\"],\"opacity\":0.7,\"size\":10,\"symbol\":\"circle\"},\"mode\":\"markers\",\"text\":[\"Bam Adebayo\",\"Santi Aldama\",\"Grayson Allen\",\"Jarrett Allen\",\"Kyle Anderson\",\"Giannis Antetokounmpo\",\"Cole Anthony\",\"OG Anunoby\",\"Deni Avdija\",\"Deandre Ayton\",\"Paolo Banchero\",\"Desmond Bane\",\"Harrison Barnes\",\"Scottie Barnes\",\"RJ Barrett\",\"Nicolas Batum\",\"Bradley Beal\",\"Saddiq Bey\",\"Bogdan Bogdanovi\\u0107\",\"Bojan Bogdanovi\\u0107\",\"Bol Bol\",\"Devin Booker\",\"Chris Boucher\",\"Malaki Branham\",\"Mikal Bridges\",\"Malcolm Brogdon\",\"Dillon Brooks\",\"Bruce Brown\",\"Jaylen Brown\",\"Troy Brown Jr.\",\"Jalen Brunson\",\"Reggie Bullock\",\"Jimmy Butler\",\"Kentavious Caldwell-Pope\",\"Clint Capela\",\"Jevon Carter\",\"Wendell Carter Jr.\",\"Alex Caruso\",\"Jordan Clarkson\",\"Nic Claxton\",\"John Collins\",\"Torrey Craig\",\"Stephen Curry\",\"Anthony Davis\",\"DeMar DeRozan\",\"Spencer Dinwiddie\",\"Donte DiVincenzo\",\"Luka Don\\u010di\\u0107\",\"Luguentz Dort\",\"Ayo Dosunmu\",\"Jalen Duren\",\"Tari Eason\",\"Anthony Edwards\",\"Joel Embiid\",\"Drew Eubanks\",\"De'Aaron Fox\",\"Markelle Fultz\",\"Daniel Gafford\",\"Darius Garland\",\"Paul George\",\"Josh Giddey\",\"Shai Gilgeous-Alexander\",\"Rudy Gobert\",\"Aaron Gordon\",\"Jerami Grant\",\"Draymond Green\",\"Jalen Green\",\"Josh Green\",\"Quentin Grimes\",\"Tyrese Haliburton\",\"Tim Hardaway Jr.\",\"James Harden\",\"Joe Harris\",\"Tobias Harris\",\"Josh Hart\",\"Isaiah Hartenstein\",\"Killian Hayes\",\"Gordon Hayward\",\"Tyler Herro\",\"Buddy Hield\",\"Jrue Holiday\",\"Al Horford\",\"Kevin Huerter\",\"De'Andre Hunter\",\"Brandon Ingram\",\"Jaden Ivey\",\"Jaren Jackson Jr.\",\"LeBron James\",\"Keldon Johnson\",\"Nikola Joki\\u0107\",\"Herbert Jones\",\"Tre Jones\",\"Tyus Jones\",\"Walker Kessler\",\"Corey Kispert\",\"Kyle Kuzma\",\"Zach LaVine\",\"Damion Lee\",\"Kawhi Leonard\",\"Caris LeVert\",\"Damian Lillard\",\"Kevon Looney\",\"Brook Lopez\",\"Kyle Lowry\",\"Terance Mann\",\"Lauri Markkanen\",\"Naji Marshall\",\"Caleb Martin\",\"Kenyon Martin Jr.\",\"Bennedict Mathurin\",\"Tyrese Maxey\",\"CJ McCollum\",\"T.J. McConnell\",\"Jaden McDaniels\",\"De'Anthony Melton\",\"Shake Milton\",\"Donovan Mitchell\",\"Evan Mobley\",\"Malik Monk\",\"Ja Morant\",\"Marcus Morris\",\"Monte Morris\",\"Trey Murphy III\",\"Dejounte Murray\",\"Jamal Murray\",\"Keegan Murray\",\"Andrew Nembhard\",\"Aaron Nesmith\",\"Georges Niang\",\"Royce O'Neale\",\"Onyeka Okongwu\",\"Isaac Okoro\",\"Kelly Olynyk\",\"Cedi Osman\",\"Kelly Oubre Jr.\",\"Chris Paul\",\"Mason Plumlee\",\"Jordan Poole\",\"Kevin Porter Jr.\",\"Michael Porter Jr.\",\"Bobby Portis\",\"Kristaps Porzi\\u0146\\u0123is\",\"Norman Powell\",\"Immanuel Quickley\",\"Julius Randle\",\"Austin Reaves\",\"Mitchell Robinson\",\"Terry Rozier\",\"D'Angelo Russell\",\"Domantas Sabonis\",\"Dennis Schr\\u00f6der\",\"Alperen \\u015eeng\\u00fcn\",\"Shaedon Sharpe\",\"Pascal Siakam\",\"Anfernee Simons\",\"Marcus Smart\",\"Jabari Smith Jr.\",\"Max Strus\",\"Jayson Tatum\",\"Klay Thompson\",\"Gary Trent Jr.\",\"P.J. Tucker\",\"Myles Turner\",\"Jonas Valan\\u010di\\u016bnas\",\"Fred VanVleet\",\"Gabe Vincent\",\"Nikola Vu\\u010devi\\u0107\",\"Franz Wagner\",\"P.J. Washington\",\"Coby White\",\"Derrick White\",\"Grant Williams\",\"Jalen Williams\",\"Patrick Williams\",\"Christian Wood\",\"Trae Young\",\"Ivica Zubac\"],\"x\":[7.4,4.6,5.1,9.5,5.1,8.6,3.7,4.7,2.3,6.2,2.4,5.8,6.5,5.0,2.2,3.6,3.4,2.3,2.8,3.5,2.3,6.0,5.0,-0.1,4.9,5.8,1.6,4.3,5.0,2.9,8.7,2.8,12.3,4.5,7.2,3.5,4.6,3.6,1.7,9.2,4.2,4.0,7.8,9.0,8.5,4.3,4.2,10.2,2.9,2.9,4.5,2.6,3.8,12.3,4.4,7.4,3.7,6.1,7.6,4.6,4.0,11.4,7.8,6.8,4.1,4.7,1.8,2.6,4.8,7.6,2.3,8.4,2.6,5.9,3.2,4.6,-0.5,2.0,3.5,4.4,6.7,6.3,4.9,2.5,3.5,0.0,6.6,5.6,1.3,14.9,4.2,3.4,5.7,7.1,3.8,0.9,7.1,2.6,7.1,4.4,9.0,8.7,8.0,3.4,4.3,8.2,2.5,3.7,4.9,1.8,5.4,4.3,3.1,4.4,4.2,2.9,8.9,8.5,3.2,6.0,2.0,4.2,7.6,4.7,5.1,4.3,1.2,2.0,2.5,2.9,7.1,4.2,4.3,3.3,1.7,6.2,6.1,3.2,2.9,4.3,5.3,7.7,3.5,6.7,8.1,5.4,6.5,1.7,3.8,12.6,2.8,5.2,1.2,7.8,2.5,3.7,1.9,3.4,10.5,3.1,4.5,2.5,5.4,5.8,6.5,1.4,8.3,5.4,2.6,3.1,7.4,4.4,5.6,3.5,4.8,6.7,6.7],\"y\":[\".592\",\".591\",\".612\",\".670\",\".583\",\".605\",\".570\",\".586\",\".535\",\".617\",\".529\",\".606\",\".632\",\".524\",\".531\",\".594\",\".593\",\".552\",\".586\",\".627\",\".603\",\".601\",\".590\",\".524\",\".574\",\".615\",\".494\",\".571\",\".581\",\".561\",\".597\",\".577\",\".647\",\".598\",\".656\",\".560\",\".621\",\".588\",\".558\",\".691\",\".593\",\".566\",\".656\",\".627\",\".592\",\".599\",\".593\",\".609\",\".513\",\".567\",\".655\",\".525\",\".564\",\".655\",\".666\",\".599\",\".564\",\".739\",\".587\",\".588\",\".533\",\".626\",\".675\",\".617\",\".606\",\".592\",\".538\",\".645\",\".619\",\".624\",\".554\",\".607\",\".621\",\".602\",\".586\",\".567\",\".455\",\".563\",\".566\",\".614\",\".586\",\".631\",\".617\",\".563\",\".582\",\".528\",\".613\",\".583\",\".551\",\".701\",\".567\",\".534\",\".546\",\".702\",\".657\",\".544\",\".607\",\".607\",\".623\",\".546\",\".645\",\".639\",\".630\",\".565\",\".619\",\".640\",\".539\",\".571\",\".635\",\".566\",\".605\",\".541\",\".590\",\".611\",\".566\",\".575\",\".614\",\".591\",\".587\",\".557\",\".534\",\".579\",\".650\",\".540\",\".571\",\".597\",\".528\",\".566\",\".610\",\".538\",\".678\",\".614\",\".643\",\".579\",\".534\",\".555\",\".673\",\".573\",\".565\",\".621\",\".575\",\".627\",\".612\",\".578\",\".581\",\".687\",\".652\",\".517\",\".604\",\".668\",\".545\",\".599\",\".568\",\".565\",\".581\",\".538\",\".514\",\".557\",\".607\",\".576\",\".560\",\".566\",\".651\",\".610\",\".540\",\".533\",\".594\",\".589\",\".542\",\".572\",\".604\",\".605\",\".601\",\".576\",\".624\",\".573\",\".661\"],\"type\":\"scatter\"}],                        {\"title\":{\"text\":\"PER vs Win Shares\"},\"xaxis\":{\"title\":{\"text\":\"Win Shares\"}},\"yaxis\":{\"title\":{\"text\":\"PER\"}},\"template\":{\"data\":{\"histogram2dcontour\":[{\"type\":\"histogram2dcontour\",\"colorbar\":{\"outlinewidth\":0,\"ticks\":\"\"},\"colorscale\":[[0.0,\"#0d0887\"],[0.1111111111111111,\"#46039f\"],[0.2222222222222222,\"#7201a8\"],[0.3333333333333333,\"#9c179e\"],[0.4444444444444444,\"#bd3786\"],[0.5555555555555556,\"#d8576b\"],[0.6666666666666666,\"#ed7953\"],[0.7777777777777778,\"#fb9f3a\"],[0.8888888888888888,\"#fdca26\"],[1.0,\"#f0f921\"]]}],\"choropleth\":[{\"type\":\"choropleth\",\"colorbar\":{\"outlinewidth\":0,\"ticks\":\"\"}}],\"histogram2d\":[{\"type\":\"histogram2d\",\"colorbar\":{\"outlinewidth\":0,\"ticks\":\"\"},\"colorscale\":[[0.0,\"#0d0887\"],[0.1111111111111111,\"#46039f\"],[0.2222222222222222,\"#7201a8\"],[0.3333333333333333,\"#9c179e\"],[0.4444444444444444,\"#bd3786\"],[0.5555555555555556,\"#d8576b\"],[0.6666666666666666,\"#ed7953\"],[0.7777777777777778,\"#fb9f3a\"],[0.8888888888888888,\"#fdca26\"],[1.0,\"#f0f921\"]]}],\"heatmap\":[{\"type\":\"heatmap\",\"colorbar\":{\"outlinewidth\":0,\"ticks\":\"\"},\"colorscale\":[[0.0,\"#0d0887\"],[0.1111111111111111,\"#46039f\"],[0.2222222222222222,\"#7201a8\"],[0.3333333333333333,\"#9c179e\"],[0.4444444444444444,\"#bd3786\"],[0.5555555555555556,\"#d8576b\"],[0.6666666666666666,\"#ed7953\"],[0.7777777777777778,\"#fb9f3a\"],[0.8888888888888888,\"#fdca26\"],[1.0,\"#f0f921\"]]}],\"heatmapgl\":[{\"type\":\"heatmapgl\",\"colorbar\":{\"outlinewidth\":0,\"ticks\":\"\"},\"colorscale\":[[0.0,\"#0d0887\"],[0.1111111111111111,\"#46039f\"],[0.2222222222222222,\"#7201a8\"],[0.3333333333333333,\"#9c179e\"],[0.4444444444444444,\"#bd3786\"],[0.5555555555555556,\"#d8576b\"],[0.6666666666666666,\"#ed7953\"],[0.7777777777777778,\"#fb9f3a\"],[0.8888888888888888,\"#fdca26\"],[1.0,\"#f0f921\"]]}],\"contourcarpet\":[{\"type\":\"contourcarpet\",\"colorbar\":{\"outlinewidth\":0,\"ticks\":\"\"}}],\"contour\":[{\"type\":\"contour\",\"colorbar\":{\"outlinewidth\":0,\"ticks\":\"\"},\"colorscale\":[[0.0,\"#0d0887\"],[0.1111111111111111,\"#46039f\"],[0.2222222222222222,\"#7201a8\"],[0.3333333333333333,\"#9c179e\"],[0.4444444444444444,\"#bd3786\"],[0.5555555555555556,\"#d8576b\"],[0.6666666666666666,\"#ed7953\"],[0.7777777777777778,\"#fb9f3a\"],[0.8888888888888888,\"#fdca26\"],[1.0,\"#f0f921\"]]}],\"surface\":[{\"type\":\"surface\",\"colorbar\":{\"outlinewidth\":0,\"ticks\":\"\"},\"colorscale\":[[0.0,\"#0d0887\"],[0.1111111111111111,\"#46039f\"],[0.2222222222222222,\"#7201a8\"],[0.3333333333333333,\"#9c179e\"],[0.4444444444444444,\"#bd3786\"],[0.5555555555555556,\"#d8576b\"],[0.6666666666666666,\"#ed7953\"],[0.7777777777777778,\"#fb9f3a\"],[0.8888888888888888,\"#fdca26\"],[1.0,\"#f0f921\"]]}],\"mesh3d\":[{\"type\":\"mesh3d\",\"colorbar\":{\"outlinewidth\":0,\"ticks\":\"\"}}],\"scatter\":[{\"fillpattern\":{\"fillmode\":\"overlay\",\"size\":10,\"solidity\":0.2},\"type\":\"scatter\"}],\"parcoords\":[{\"type\":\"parcoords\",\"line\":{\"colorbar\":{\"outlinewidth\":0,\"ticks\":\"\"}}}],\"scatterpolargl\":[{\"type\":\"scatterpolargl\",\"marker\":{\"colorbar\":{\"outlinewidth\":0,\"ticks\":\"\"}}}],\"bar\":[{\"error_x\":{\"color\":\"#2a3f5f\"},\"error_y\":{\"color\":\"#2a3f5f\"},\"marker\":{\"line\":{\"color\":\"#E5ECF6\",\"width\":0.5},\"pattern\":{\"fillmode\":\"overlay\",\"size\":10,\"solidity\":0.2}},\"type\":\"bar\"}],\"scattergeo\":[{\"type\":\"scattergeo\",\"marker\":{\"colorbar\":{\"outlinewidth\":0,\"ticks\":\"\"}}}],\"scatterpolar\":[{\"type\":\"scatterpolar\",\"marker\":{\"colorbar\":{\"outlinewidth\":0,\"ticks\":\"\"}}}],\"histogram\":[{\"marker\":{\"pattern\":{\"fillmode\":\"overlay\",\"size\":10,\"solidity\":0.2}},\"type\":\"histogram\"}],\"scattergl\":[{\"type\":\"scattergl\",\"marker\":{\"colorbar\":{\"outlinewidth\":0,\"ticks\":\"\"}}}],\"scatter3d\":[{\"type\":\"scatter3d\",\"line\":{\"colorbar\":{\"outlinewidth\":0,\"ticks\":\"\"}},\"marker\":{\"colorbar\":{\"outlinewidth\":0,\"ticks\":\"\"}}}],\"scattermapbox\":[{\"type\":\"scattermapbox\",\"marker\":{\"colorbar\":{\"outlinewidth\":0,\"ticks\":\"\"}}}],\"scatterternary\":[{\"type\":\"scatterternary\",\"marker\":{\"colorbar\":{\"outlinewidth\":0,\"ticks\":\"\"}}}],\"scattercarpet\":[{\"type\":\"scattercarpet\",\"marker\":{\"colorbar\":{\"outlinewidth\":0,\"ticks\":\"\"}}}],\"carpet\":[{\"aaxis\":{\"endlinecolor\":\"#2a3f5f\",\"gridcolor\":\"white\",\"linecolor\":\"white\",\"minorgridcolor\":\"white\",\"startlinecolor\":\"#2a3f5f\"},\"baxis\":{\"endlinecolor\":\"#2a3f5f\",\"gridcolor\":\"white\",\"linecolor\":\"white\",\"minorgridcolor\":\"white\",\"startlinecolor\":\"#2a3f5f\"},\"type\":\"carpet\"}],\"table\":[{\"cells\":{\"fill\":{\"color\":\"#EBF0F8\"},\"line\":{\"color\":\"white\"}},\"header\":{\"fill\":{\"color\":\"#C8D4E3\"},\"line\":{\"color\":\"white\"}},\"type\":\"table\"}],\"barpolar\":[{\"marker\":{\"line\":{\"color\":\"#E5ECF6\",\"width\":0.5},\"pattern\":{\"fillmode\":\"overlay\",\"size\":10,\"solidity\":0.2}},\"type\":\"barpolar\"}],\"pie\":[{\"automargin\":true,\"type\":\"pie\"}]},\"layout\":{\"autotypenumbers\":\"strict\",\"colorway\":[\"#636efa\",\"#EF553B\",\"#00cc96\",\"#ab63fa\",\"#FFA15A\",\"#19d3f3\",\"#FF6692\",\"#B6E880\",\"#FF97FF\",\"#FECB52\"],\"font\":{\"color\":\"#2a3f5f\"},\"hovermode\":\"closest\",\"hoverlabel\":{\"align\":\"left\"},\"paper_bgcolor\":\"white\",\"plot_bgcolor\":\"#E5ECF6\",\"polar\":{\"bgcolor\":\"#E5ECF6\",\"angularaxis\":{\"gridcolor\":\"white\",\"linecolor\":\"white\",\"ticks\":\"\"},\"radialaxis\":{\"gridcolor\":\"white\",\"linecolor\":\"white\",\"ticks\":\"\"}},\"ternary\":{\"bgcolor\":\"#E5ECF6\",\"aaxis\":{\"gridcolor\":\"white\",\"linecolor\":\"white\",\"ticks\":\"\"},\"baxis\":{\"gridcolor\":\"white\",\"linecolor\":\"white\",\"ticks\":\"\"},\"caxis\":{\"gridcolor\":\"white\",\"linecolor\":\"white\",\"ticks\":\"\"}},\"coloraxis\":{\"colorbar\":{\"outlinewidth\":0,\"ticks\":\"\"}},\"colorscale\":{\"sequential\":[[0.0,\"#0d0887\"],[0.1111111111111111,\"#46039f\"],[0.2222222222222222,\"#7201a8\"],[0.3333333333333333,\"#9c179e\"],[0.4444444444444444,\"#bd3786\"],[0.5555555555555556,\"#d8576b\"],[0.6666666666666666,\"#ed7953\"],[0.7777777777777778,\"#fb9f3a\"],[0.8888888888888888,\"#fdca26\"],[1.0,\"#f0f921\"]],\"sequentialminus\":[[0.0,\"#0d0887\"],[0.1111111111111111,\"#46039f\"],[0.2222222222222222,\"#7201a8\"],[0.3333333333333333,\"#9c179e\"],[0.4444444444444444,\"#bd3786\"],[0.5555555555555556,\"#d8576b\"],[0.6666666666666666,\"#ed7953\"],[0.7777777777777778,\"#fb9f3a\"],[0.8888888888888888,\"#fdca26\"],[1.0,\"#f0f921\"]],\"diverging\":[[0,\"#8e0152\"],[0.1,\"#c51b7d\"],[0.2,\"#de77ae\"],[0.3,\"#f1b6da\"],[0.4,\"#fde0ef\"],[0.5,\"#f7f7f7\"],[0.6,\"#e6f5d0\"],[0.7,\"#b8e186\"],[0.8,\"#7fbc41\"],[0.9,\"#4d9221\"],[1,\"#276419\"]]},\"xaxis\":{\"gridcolor\":\"white\",\"linecolor\":\"white\",\"ticks\":\"\",\"title\":{\"standoff\":15},\"zerolinecolor\":\"white\",\"automargin\":true,\"zerolinewidth\":2},\"yaxis\":{\"gridcolor\":\"white\",\"linecolor\":\"white\",\"ticks\":\"\",\"title\":{\"standoff\":15},\"zerolinecolor\":\"white\",\"automargin\":true,\"zerolinewidth\":2},\"scene\":{\"xaxis\":{\"backgroundcolor\":\"#E5ECF6\",\"gridcolor\":\"white\",\"linecolor\":\"white\",\"showbackground\":true,\"ticks\":\"\",\"zerolinecolor\":\"white\",\"gridwidth\":2},\"yaxis\":{\"backgroundcolor\":\"#E5ECF6\",\"gridcolor\":\"white\",\"linecolor\":\"white\",\"showbackground\":true,\"ticks\":\"\",\"zerolinecolor\":\"white\",\"gridwidth\":2},\"zaxis\":{\"backgroundcolor\":\"#E5ECF6\",\"gridcolor\":\"white\",\"linecolor\":\"white\",\"showbackground\":true,\"ticks\":\"\",\"zerolinecolor\":\"white\",\"gridwidth\":2}},\"shapedefaults\":{\"line\":{\"color\":\"#2a3f5f\"}},\"annotationdefaults\":{\"arrowcolor\":\"#2a3f5f\",\"arrowhead\":0,\"arrowwidth\":1},\"geo\":{\"bgcolor\":\"white\",\"landcolor\":\"#E5ECF6\",\"subunitcolor\":\"white\",\"showland\":true,\"showlakes\":true,\"lakecolor\":\"white\"},\"title\":{\"x\":0.05},\"mapbox\":{\"style\":\"light\"}}}},                        {\"responsive\": true}                    ).then(function(){\n",
              "                            \n",
              "var gd = document.getElementById('cdd631ea-0647-40e6-95a2-266ee1935711');\n",
              "var x = new MutationObserver(function (mutations, observer) {{\n",
              "        var display = window.getComputedStyle(gd).display;\n",
              "        if (!display || display === 'none') {{\n",
              "            console.log([gd, 'removed!']);\n",
              "            Plotly.purge(gd);\n",
              "            observer.disconnect();\n",
              "        }}\n",
              "}});\n",
              "\n",
              "// Listen for the removal of the full notebook cells\n",
              "var notebookContainer = gd.closest('#notebook-container');\n",
              "if (notebookContainer) {{\n",
              "    x.observe(notebookContainer, {childList: true});\n",
              "}}\n",
              "\n",
              "// Listen for the clearing of the current output cell\n",
              "var outputEl = gd.closest('.output');\n",
              "if (outputEl) {{\n",
              "    x.observe(outputEl, {childList: true});\n",
              "}}\n",
              "\n",
              "                        })                };                            </script>        </div>\n",
              "</body>\n",
              "</html>"
            ]
          },
          "metadata": {}
        }
      ]
    }
  ]
}